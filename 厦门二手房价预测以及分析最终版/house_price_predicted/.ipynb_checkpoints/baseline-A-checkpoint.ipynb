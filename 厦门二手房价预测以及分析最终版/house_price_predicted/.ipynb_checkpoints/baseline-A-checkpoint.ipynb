{
 "cells": [
  {
   "cell_type": "code",
   "execution_count": 1,
   "metadata": {},
   "outputs": [],
   "source": [
    "import pandas as pd\n",
    "import numpy as np\n",
    "import matplotlib.pyplot as plt\n",
    "import re\n",
    "import seaborn as sns\n",
    "from tqdm import tqdm\n",
    "from xgboost import XGBRegressor\n",
    "from sklearn.preprocessing import LabelEncoder, StandardScaler, MinMaxScaler, MaxAbsScaler\n",
    "from sklearn.model_selection import train_test_split\n",
    "from sklearn.model_selection import KFold\n",
    "from sklearn.metrics import mean_squared_error,mean_absolute_error,r2_score\n",
    "import warnings\n",
    "warnings.filterwarnings('ignore')"
   ]
  },
  {
   "cell_type": "code",
   "execution_count": 49,
   "metadata": {},
   "outputs": [],
   "source": [
    "sns.set_style(\"darkgrid\")  # 图表风格\n",
    "plt.rcParams['font.sans-serif']=['SimHei']  # 用来正常显示中文标签\n",
    "plt.rcParams['axes.unicode_minus']=False  # 用来正常显示负号"
   ]
  },
  {
   "cell_type": "code",
   "execution_count": 2,
   "metadata": {},
   "outputs": [],
   "source": [
    "#数据存储路径\n",
    "dataPath='./data/geo_trans.csv'"
   ]
  },
  {
   "cell_type": "code",
   "execution_count": 3,
   "metadata": {},
   "outputs": [],
   "source": [
    "#读取数据\n",
    "data=pd.read_csv(dataPath)"
   ]
  },
  {
   "cell_type": "markdown",
   "metadata": {},
   "source": [
    "# 数据预处理"
   ]
  },
  {
   "cell_type": "code",
   "execution_count": 4,
   "metadata": {
    "scrolled": false
   },
   "outputs": [
    {
     "data": {
      "text/html": [
       "<div>\n",
       "<style scoped>\n",
       "    .dataframe tbody tr th:only-of-type {\n",
       "        vertical-align: middle;\n",
       "    }\n",
       "\n",
       "    .dataframe tbody tr th {\n",
       "        vertical-align: top;\n",
       "    }\n",
       "\n",
       "    .dataframe thead th {\n",
       "        text-align: right;\n",
       "    }\n",
       "</style>\n",
       "<table border=\"1\" class=\"dataframe\">\n",
       "  <thead>\n",
       "    <tr style=\"text-align: right;\">\n",
       "      <th></th>\n",
       "      <th>ID</th>\n",
       "      <th>name</th>\n",
       "      <th>address</th>\n",
       "      <th>model</th>\n",
       "      <th>area</th>\n",
       "      <th>direct</th>\n",
       "      <th>perfect</th>\n",
       "      <th>floor</th>\n",
       "      <th>year</th>\n",
       "      <th>type</th>\n",
       "      <th>total</th>\n",
       "      <th>unit</th>\n",
       "      <th>traffic</th>\n",
       "      <th>经度</th>\n",
       "      <th>纬度</th>\n",
       "    </tr>\n",
       "  </thead>\n",
       "  <tbody>\n",
       "    <tr>\n",
       "      <th>0</th>\n",
       "      <td>1</td>\n",
       "      <td>厦门厦罐宿舍</td>\n",
       "      <td>禾祥西路</td>\n",
       "      <td>1室1厅</td>\n",
       "      <td>46.89平米</td>\n",
       "      <td>南</td>\n",
       "      <td>简装</td>\n",
       "      <td>高楼层(共7层)</td>\n",
       "      <td>1998</td>\n",
       "      <td>板楼</td>\n",
       "      <td>216.0</td>\n",
       "      <td>单价46066元/平米</td>\n",
       "      <td>近1号线文灶站</td>\n",
       "      <td>118.104400</td>\n",
       "      <td>24.473044</td>\n",
       "    </tr>\n",
       "    <tr>\n",
       "      <th>1</th>\n",
       "      <td>2</td>\n",
       "      <td>厦门万寿北路</td>\n",
       "      <td>文园路</td>\n",
       "      <td>2室1厅</td>\n",
       "      <td>48.67平米</td>\n",
       "      <td>南</td>\n",
       "      <td>简装</td>\n",
       "      <td>低楼层(共7层)</td>\n",
       "      <td>1991</td>\n",
       "      <td>板楼</td>\n",
       "      <td>310.0</td>\n",
       "      <td>单价63695元/平米</td>\n",
       "      <td>近1号线将军祠站</td>\n",
       "      <td>118.110963</td>\n",
       "      <td>24.467187</td>\n",
       "    </tr>\n",
       "    <tr>\n",
       "      <th>2</th>\n",
       "      <td>4</td>\n",
       "      <td>厦门南湖中祥大厦</td>\n",
       "      <td>槟榔</td>\n",
       "      <td>1室1厅</td>\n",
       "      <td>45.08平米</td>\n",
       "      <td>东南 南</td>\n",
       "      <td>精装</td>\n",
       "      <td>低楼层(共31层)</td>\n",
       "      <td>2007</td>\n",
       "      <td>板塔结合</td>\n",
       "      <td>308.0</td>\n",
       "      <td>单价68323元/平米</td>\n",
       "      <td>近2号线体育中心站</td>\n",
       "      <td>118.115748</td>\n",
       "      <td>24.485691</td>\n",
       "    </tr>\n",
       "    <tr>\n",
       "      <th>3</th>\n",
       "      <td>5</td>\n",
       "      <td>厦门王子广场</td>\n",
       "      <td>海沧生活区</td>\n",
       "      <td>1室1厅</td>\n",
       "      <td>34.2平米</td>\n",
       "      <td>南</td>\n",
       "      <td>简装</td>\n",
       "      <td>中楼层(共25层)</td>\n",
       "      <td>2011</td>\n",
       "      <td>板塔结合</td>\n",
       "      <td>99.4</td>\n",
       "      <td>单价29065元/平米</td>\n",
       "      <td>近2号线海沧行政中心站</td>\n",
       "      <td>118.048422</td>\n",
       "      <td>24.495096</td>\n",
       "    </tr>\n",
       "    <tr>\n",
       "      <th>4</th>\n",
       "      <td>6</td>\n",
       "      <td>厦门文化大厦</td>\n",
       "      <td>莲坂</td>\n",
       "      <td>1室0厅</td>\n",
       "      <td>44.45平米</td>\n",
       "      <td>南</td>\n",
       "      <td>简装</td>\n",
       "      <td>中楼层(共31层)</td>\n",
       "      <td>2005</td>\n",
       "      <td>板楼</td>\n",
       "      <td>230.0</td>\n",
       "      <td>单价51744元/平米</td>\n",
       "      <td>NaN</td>\n",
       "      <td>118.124828</td>\n",
       "      <td>24.482696</td>\n",
       "    </tr>\n",
       "  </tbody>\n",
       "</table>\n",
       "</div>"
      ],
      "text/plain": [
       "   ID      name address model     area direct perfect      floor  year  type  \\\n",
       "0   1    厦门厦罐宿舍    禾祥西路  1室1厅  46.89平米      南      简装   高楼层(共7层)  1998    板楼   \n",
       "1   2    厦门万寿北路     文园路  2室1厅  48.67平米      南      简装   低楼层(共7层)  1991    板楼   \n",
       "2   4  厦门南湖中祥大厦      槟榔  1室1厅  45.08平米   东南 南      精装  低楼层(共31层)  2007  板塔结合   \n",
       "3   5    厦门王子广场   海沧生活区  1室1厅   34.2平米      南      简装  中楼层(共25层)  2011  板塔结合   \n",
       "4   6    厦门文化大厦      莲坂  1室0厅  44.45平米      南      简装  中楼层(共31层)  2005    板楼   \n",
       "\n",
       "   total         unit      traffic          经度         纬度  \n",
       "0  216.0  单价46066元/平米      近1号线文灶站  118.104400  24.473044  \n",
       "1  310.0  单价63695元/平米     近1号线将军祠站  118.110963  24.467187  \n",
       "2  308.0  单价68323元/平米    近2号线体育中心站  118.115748  24.485691  \n",
       "3   99.4  单价29065元/平米  近2号线海沧行政中心站  118.048422  24.495096  \n",
       "4  230.0  单价51744元/平米          NaN  118.124828  24.482696  "
      ]
     },
     "execution_count": 4,
     "metadata": {},
     "output_type": "execute_result"
    }
   ],
   "source": [
    "#数据预览\n",
    "data.head()"
   ]
  },
  {
   "cell_type": "markdown",
   "metadata": {},
   "source": [
    "### 1.缺失值处理"
   ]
  },
  {
   "cell_type": "code",
   "execution_count": null,
   "metadata": {},
   "outputs": [],
   "source": []
  },
  {
   "cell_type": "code",
   "execution_count": 5,
   "metadata": {},
   "outputs": [],
   "source": [
    "#用众数填补年份特征的缺失值\n",
    "yearMode=data['year'].mode()[0]\n",
    "data['year']=data['year'].fillna(yearMode)"
   ]
  },
  {
   "cell_type": "code",
   "execution_count": 6,
   "metadata": {
    "scrolled": true
   },
   "outputs": [],
   "source": [
    "#处理交通特征缺失值\n",
    "data['traffic'].fillna('无地铁',inplace=True)"
   ]
  },
  {
   "cell_type": "markdown",
   "metadata": {},
   "source": [
    "### 2.异常值处理"
   ]
  },
  {
   "cell_type": "code",
   "execution_count": 7,
   "metadata": {
    "scrolled": true
   },
   "outputs": [],
   "source": [
    "#处理年份异常值,用众数替换异常值\n",
    "re=r'\\D'\n",
    "yearMode=data['year'].mode()[0]\n",
    "data['year'][data['year'].str.contains(re)]=yearMode"
   ]
  },
  {
   "cell_type": "code",
   "execution_count": 8,
   "metadata": {},
   "outputs": [],
   "source": [
    "#处理户型异常值,将0室改为1室\n",
    "sh=r'^0'\n",
    "data['model']=data['model'].str.replace(sh,'1')"
   ]
  },
  {
   "cell_type": "markdown",
   "metadata": {},
   "source": [
    "# 特征工程"
   ]
  },
  {
   "cell_type": "markdown",
   "metadata": {},
   "source": [
    "### 1.数据转换"
   ]
  },
  {
   "cell_type": "code",
   "execution_count": 9,
   "metadata": {},
   "outputs": [],
   "source": [
    "#处理价格特征\n",
    "data['unit']=round(data['unit'].apply(lambda x:int(x.split('价')[1].split('元')[0]))/10000,1)"
   ]
  },
  {
   "cell_type": "code",
   "execution_count": 10,
   "metadata": {
    "scrolled": true
   },
   "outputs": [
    {
     "data": {
      "image/png": "[encoded data removed]",
      "text/plain": [
       "<Figure size 432x288 with 1 Axes>"
      ]
     },
     "metadata": {
      "needs_background": "light"
     },
     "output_type": "display_data"
    }
   ],
   "source": [
    "#单价分布图\n",
    "sns.distplot(data['unit'])\n",
    "plt.show()"
   ]
  },
  {
   "cell_type": "code",
   "execution_count": 11,
   "metadata": {},
   "outputs": [],
   "source": [
    "#处理面积特征\n",
    "data['area']=data['area'].apply(lambda x: x.split('平')[0]).astype('float64')"
   ]
  },
  {
   "cell_type": "code",
   "execution_count": 12,
   "metadata": {},
   "outputs": [],
   "source": [
    "#处理户型特征\n",
    "data['室']=data['model'].apply(lambda x : x.split('室')[0]).astype('int64')\n",
    "data['厅']=data['model'].apply(lambda x : x.split('厅')[0].split('室')[1]).astype('int64')"
   ]
  },
  {
   "cell_type": "code",
   "execution_count": 13,
   "metadata": {},
   "outputs": [],
   "source": [
    "#处理时间特征\n",
    "data['year']=data['year'].astype('int64')\n",
    "#最近的年份减每个年份\n",
    "data['yearNum']=data['year'].max()-data['year']"
   ]
  },
  {
   "cell_type": "code",
   "execution_count": 14,
   "metadata": {},
   "outputs": [],
   "source": [
    "#独热编码处理特征\n",
    "oneHot=['direct','perfect','floor','type','traffic']"
   ]
  },
  {
   "cell_type": "code",
   "execution_count": 15,
   "metadata": {},
   "outputs": [],
   "source": [
    "#处理方位特征\n",
    "def transDir(df):\n",
    "    #空列表\n",
    "    tempList=[]\n",
    "    dirList=df['direct'].str.split(' ').tolist()\n",
    "    #方位字典\n",
    "    dirDict={'东':0,'南':0,'西':0,'北':0,'东北':0,'东南':0,'西北':0,'西南':0}\n",
    "    for i in tqdm(range(df.shape[0])):\n",
    "        for item in dirList[i]:\n",
    "            if item in dirDict:\n",
    "                dirDict[item]+=1\n",
    "        tempList.append(dirDict)\n",
    "        #初始化字典\n",
    "        dirDict={'东':0,'南':0,'西':0,'北':0,'东北':0,'东南':0,'西北':0,'西南':0}\n",
    "    return tempList"
   ]
  },
  {
   "cell_type": "code",
   "execution_count": 16,
   "metadata": {
    "scrolled": true
   },
   "outputs": [
    {
     "name": "stderr",
     "output_type": "stream",
     "text": [
      "100%|████████████████████████████████████████████████████████████████████████| 17058/17058 [00:00<00:00, 813360.44it/s]\n"
     ]
    }
   ],
   "source": [
    "tempDf=transDir(data)\n",
    "#转化为Df格式\n",
    "dirDf=pd.DataFrame(tempDf)\n",
    "#与源数据合并\n",
    "data=pd.concat([data,dirDf],axis=1)"
   ]
  },
  {
   "cell_type": "code",
   "execution_count": 17,
   "metadata": {},
   "outputs": [],
   "source": [
    "#处理楼层特征\n",
    "#低于15楼的归于低楼层，15到30为中楼层，30以上为高楼层\n",
    "def judge_floor(num):\n",
    "    if num<15:\n",
    "        floor='低楼层'\n",
    "    elif 15<=num<30:\n",
    "        floor='中楼层'\n",
    "    else:\n",
    "        floor='高楼层'\n",
    "    return floor"
   ]
  },
  {
   "cell_type": "code",
   "execution_count": 18,
   "metadata": {},
   "outputs": [],
   "source": [
    "#转化\n",
    "def trans_floor(df):\n",
    "    td=df['floor'].apply(lambda x:x.split('(')[0])\n",
    "    #正则表达式\n",
    "    gk=r'^\\d'\n",
    "    td[td.str.contains(gk)]=td[td.str.contains(gk)].apply(lambda x:x.split('层')[0]).apply(lambda x:judge_floor(int(x)))\n",
    "    return td"
   ]
  },
  {
   "cell_type": "code",
   "execution_count": 19,
   "metadata": {},
   "outputs": [],
   "source": [
    "data['floorNew']=trans_floor(data)"
   ]
  },
  {
   "cell_type": "code",
   "execution_count": 20,
   "metadata": {},
   "outputs": [],
   "source": [
    "#处理楼层特征\n",
    "#独热编码处理特征\n",
    "oneHot=['address','perfect','floorNew','type','traffic']\n",
    "def get_oneHot(df,oneHotList):\n",
    "    for item in oneHotList:\n",
    "        #独热编码\n",
    "        tempDf=pd.get_dummies(df[item])\n",
    "        #重命名\n",
    "        for i in range(tempDf.columns.shape[0]):\n",
    "            tempDf.rename(columns={tempDf.columns[i]:item+'_'+str(i)},inplace=True)\n",
    "        #合并\n",
    "        df=pd.concat([df,tempDf],axis=1)\n",
    "    return df"
   ]
  },
  {
   "cell_type": "code",
   "execution_count": 21,
   "metadata": {},
   "outputs": [],
   "source": [
    "data=get_oneHot(data,oneHot)"
   ]
  },
  {
   "cell_type": "code",
   "execution_count": 22,
   "metadata": {},
   "outputs": [],
   "source": [
    "#对经纬度进行网格划分\n",
    "x_geo_range = [data['纬度'].min(), data['纬度'].max()]\n",
    "y_geo_range = [data['经度'].min(), data['经度'].max()]"
   ]
  },
  {
   "cell_type": "code",
   "execution_count": 23,
   "metadata": {},
   "outputs": [],
   "source": [
    "#删除无用特征\n",
    "df=data.drop(columns=['ID','name','address','model','area','direct','perfect','floor','floorNew','year','type','traffic','total'])"
   ]
  },
  {
   "cell_type": "code",
   "execution_count": 24,
   "metadata": {},
   "outputs": [],
   "source": [
    "#将uint8类型转为int64类型\n",
    "for col in df.columns:\n",
    "    if df[col].dtype=='uint8':\n",
    "        df[col]=df[col].astype('int64')"
   ]
  },
  {
   "cell_type": "markdown",
   "metadata": {},
   "source": [
    "# 可视化分析"
   ]
  },
  {
   "cell_type": "markdown",
   "metadata": {},
   "source": [
    "# 建模分析"
   ]
  },
  {
   "cell_type": "code",
   "execution_count": 25,
   "metadata": {},
   "outputs": [],
   "source": [
    "#划分训练集和测试集\n",
    "df_train = df.iloc[:int(len(df)*0.9), :]\n",
    "df_test = df.iloc[int(len(df)*0.9):, :]"
   ]
  },
  {
   "cell_type": "code",
   "execution_count": 26,
   "metadata": {},
   "outputs": [],
   "source": [
    "#划分标签\n",
    "train_X,train_Y=df_train.drop(columns='unit'),df_train['unit']\n",
    "test_X,test_Y=df_test.drop(columns='unit'),df_test['unit']"
   ]
  },
  {
   "cell_type": "code",
   "execution_count": 29,
   "metadata": {},
   "outputs": [
    {
     "name": "stdout",
     "output_type": "stream",
     "text": [
      "fold 0\n",
      "[19:25:24] WARNING: d:\\build\\xgboost\\xgboost-0.90.git\\src\\objective\\regression_obj.cu:152: reg:linear is now deprecated in favor of reg:squarederror.\n",
      "fold 1\n",
      "[19:25:55] WARNING: d:\\build\\xgboost\\xgboost-0.90.git\\src\\objective\\regression_obj.cu:152: reg:linear is now deprecated in favor of reg:squarederror.\n",
      "fold 2\n",
      "[19:26:28] WARNING: d:\\build\\xgboost\\xgboost-0.90.git\\src\\objective\\regression_obj.cu:152: reg:linear is now deprecated in favor of reg:squarederror.\n"
     ]
    }
   ],
   "source": [
    "#进行5折交叉验证\n",
    "param={\n",
    "    \n",
    "    'learning_rate':0.3,\n",
    "       'n_estimators':500,\n",
    "       'eta':0.1,\n",
    "       'max_depth':8\n",
    "    \n",
    "}\n",
    "\n",
    "oof = np.zeros(len(df_train))\n",
    "predictions = np.zeros(len(df_test))\n",
    "feature_importance_df = pd.DataFrame()\n",
    "\n",
    "xgbr= XGBRegressor(learning_rate=0.3,n_estimators=500,eta=0.1,max_depth=8)\n",
    "kf = KFold(n_splits=3, random_state=2020, shuffle=True)\n",
    "\n",
    "#交叉训练模型\n",
    "\n",
    "for fold_, (trn_idx, val_idx) in enumerate(kf.split(df_train)):\n",
    "    print(\"fold {}\".format(fold_))\n",
    "    # 训练集\n",
    "    train_data = train_X.iloc[trn_idx,:]\n",
    "    train_label = train_Y.iloc[trn_idx]\n",
    "    # 验证集\n",
    "    valid_data = train_X.iloc[val_idx,:]\n",
    "    valid_label = train_Y.iloc[val_idx]\n",
    "    \n",
    "    xgbr.fit(train_data,train_label)\n",
    "    oof[val_idx] = xgbr.predict(valid_data)\n",
    "    \n",
    "    #统计特征重要性因子\n",
    "    fold_importance_df = pd.DataFrame()\n",
    "    fold_importance_df[\"Feature\"] = train_X.columns\n",
    "    fold_importance_df[\"importance\"] = xgbr.feature_importances_\n",
    "    fold_importance_df[\"fold\"] = fold_ + 1\n",
    "    feature_importance_df = pd.concat([feature_importance_df, fold_importance_df], axis=0)\n",
    "    \n",
    "    #测试集结果\n",
    "    predictions += xgbr.predict(test_X) / kf.n_splits"
   ]
  },
  {
   "cell_type": "code",
   "execution_count": 30,
   "metadata": {},
   "outputs": [],
   "source": [
    "feature_importance_df = feature_importance_df.groupby(by=['Feature'], as_index=False)['importance'].agg('mean').reset_index(drop=True)\n",
    "feature_importance_df.sort_values(by='importance', ascending=False, inplace=True)"
   ]
  },
  {
   "cell_type": "code",
   "execution_count": 47,
   "metadata": {},
   "outputs": [],
   "source": [
    "#选取重要程度最高的前20个特征\n",
    "importance_df=feature_importance_df.sort_values(by='importance',ascending=False).iloc[:21,:]"
   ]
  },
  {
   "cell_type": "code",
   "execution_count": 50,
   "metadata": {},
   "outputs": [
    {
     "data": {
      "image/png": "[encoded data removed]",
      "text/plain": [
       "<Figure size 1152x648 with 1 Axes>"
      ]
     },
     "metadata": {},
     "output_type": "display_data"
    }
   ],
   "source": [
    "plt.figure(figsize=(16, 9))\n",
    "fig= sns.barplot(x='Feature', y='importance', data=importance_df)\n",
    "fig.set_xticklabels(labels=importance_df['Feature'].values, rotation=80, size=15)\n",
    "plt.show()"
   ]
  },
  {
   "cell_type": "code",
   "execution_count": 36,
   "metadata": {},
   "outputs": [],
   "source": [
    "# 模型在测试集上的表现\n",
    "results = xgbr.predict(test_X)\n",
    "mseScroe=mean_squared_error(test_Y,predictions)\n",
    "maeScroe=mean_absolute_error(test_Y,predictions)\n",
    "r2Scroe=r2_score(test_Y,predictions)"
   ]
  },
  {
   "cell_type": "code",
   "execution_count": 37,
   "metadata": {},
   "outputs": [
    {
     "data": {
      "text/plain": [
       "1.3206757794573691"
      ]
     },
     "execution_count": 37,
     "metadata": {},
     "output_type": "execute_result"
    }
   ],
   "source": [
    "rmseScroe=mseScroe**0.5\n",
    "rmseScroe"
   ]
  },
  {
   "cell_type": "code",
   "execution_count": 38,
   "metadata": {},
   "outputs": [
    {
     "data": {
      "text/plain": [
       "0.8920120429042355"
      ]
     },
     "execution_count": 38,
     "metadata": {},
     "output_type": "execute_result"
    }
   ],
   "source": [
    "maeScroe"
   ]
  },
  {
   "cell_type": "code",
   "execution_count": 39,
   "metadata": {
    "scrolled": true
   },
   "outputs": [
    {
     "data": {
      "text/plain": [
       "0.6868251231389382"
      ]
     },
     "execution_count": 39,
     "metadata": {},
     "output_type": "execute_result"
    }
   ],
   "source": [
    "r2Scroe"
   ]
  },
  {
   "cell_type": "code",
   "execution_count": null,
   "metadata": {},
   "outputs": [],
   "source": []
  }
 ],
 "metadata": {
  "kernelspec": {
   "display_name": "Python 3",
   "language": "python",
   "name": "python3"
  },
  "language_info": {
   "codemirror_mode": {
    "name": "ipython",
    "version": 3
   },
   "file_extension": ".py",
   "mimetype": "text/x-python",
   "name": "python",
   "nbconvert_exporter": "python",
   "pygments_lexer": "ipython3",
   "version": "3.7.3"
  }
 },
 "nbformat": 4,
 "nbformat_minor": 2
}
